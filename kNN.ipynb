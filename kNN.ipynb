{
 "cells": [
  {
   "cell_type": "markdown",
   "id": "83d20994",
   "metadata": {},
   "source": [
    "# k-Nearest Neighbor"
   ]
  },
  {
   "cell_type": "raw",
   "id": "01accbd5",
   "metadata": {},
   "source": [
    "1) Implement the k-Nearest Neighbor algorithm with Python!\n",
    "2) It should be applicable for classification and regression tasks!\n",
    "3) Extend your algorithm with a weighting function (see the lecture slides)"
   ]
  },
  {
   "cell_type": "code",
   "execution_count": 1,
   "id": "b1b78408",
   "metadata": {},
   "outputs": [],
   "source": [
    "import numpy as np\n",
    "from sklearn.neighbors import KNeighborsClassifier, KNeighborsRegressor"
   ]
  },
  {
   "cell_type": "code",
   "execution_count": 25,
   "id": "deb6a6bf",
   "metadata": {},
   "outputs": [],
   "source": [
    "# YOUR CODE HERE\n",
    "\n",
    "class KNN:\n",
    "    def __init__(self, k = 3, weight = 'uniform'):\n",
    "        self.k = k\n",
    "        self.weight = weight\n",
    "\n",
    "    def fit(self, X_train, Y_train):\n",
    "        self.X_train = X_train\n",
    "        self.Y_train = Y_train\n",
    "\n",
    "    def euclidian_Distance(self, X_train, test):\n",
    "        # returns distance\n",
    "        return np.sqrt(np.sum(np.square(np.subtract(X_train, test))))\n",
    "\n",
    "    def predict(self, test):\n",
    "        predictions = []\n",
    "        for j in range(0, len(test)):\n",
    "            distances = [self.euclidian_Distance(train_data_row, test[j]) for train_data_row in self.X_train]\n",
    "            # indices of nearest neighbors\n",
    "            k_indices = np.argsort(distances)[:self.k]\n",
    "            # labels of k neighbors\n",
    "            k_nearest_labels = [self.Y_train[k_indices[i]] for i in range(0, np.size(k_indices))]\n",
    "            \n",
    "            # majority vote        \n",
    "            if self.weight == 'uniform':\n",
    "                # non-weighted votes\n",
    "                # get the most repeating label i.e. np.bincount counts no. of each label, np.argmax outputs index of max count\n",
    "                prediction = k_nearest_labels[np.argmax(np.bincount(k_nearest_labels))]\n",
    "            elif self.weight == 'distance':\n",
    "                # weighted votes\n",
    "                # weights are the reciprocal of the k distances\n",
    "                weights = [1 / distances[k_indices[i]] for i in range(0, np.size(k_indices))]\n",
    "                # weights are divided by sum of all weights to get the votes\n",
    "                weighted_votes = [weights[i] / np.sum(weights) for i in range(0, len(weights))]\n",
    "                # get the most repeating weighted vote i.e. np.bincount counts no. of each weighted votes, np.argmax outputs index of max count\n",
    "                prediction = k_nearest_labels[np.argmax(np.bincount(weighted_votes))]\n",
    "            predictions.append(prediction)\n",
    "            \n",
    "        return predictions"
   ]
  },
  {
   "cell_type": "markdown",
   "id": "3de8f1a5",
   "metadata": {},
   "source": [
    "## Compare the results with the sklearn kNN algorithm"
   ]
  },
  {
   "cell_type": "code",
   "execution_count": 26,
   "id": "76cd6b19",
   "metadata": {},
   "outputs": [
    {
     "name": "stdout",
     "output_type": "stream",
     "text": [
      "Classification input:\n",
      " [[0]\n",
      " [1]\n",
      " [2]\n",
      " [3]\n",
      " [4]\n",
      " [5]\n",
      " [6]\n",
      " [7]\n",
      " [8]] \tShape: (9, 1)\n",
      "Classification labels:\n",
      " [0 0 0 1 1 1 2 2 2] \tShape: (9,)\n",
      "Regression input:\n",
      " [[ 1  2]\n",
      " [ 2  4]\n",
      " [ 3  6]\n",
      " [ 4  8]\n",
      " [ 5 10]] \tShape: (5, 2)\n",
      "Regression labels:\n",
      " [1 2 3 4 5] \tShape: (5,)\n"
     ]
    }
   ],
   "source": [
    "# Make your code work with the following inputs:\n",
    "# Use this data as your reference data points and labels\n",
    "\n",
    "# Classification data\n",
    "cl_X = np.arange(0, 9).reshape(9,1)\n",
    "cl_y = np.array([0, 0, 0, 1, 1, 1, 2, 2, 2])\n",
    "print('Classification input:\\n', cl_X, '\\tShape:', cl_X.shape)\n",
    "print('Classification labels:\\n', cl_y, '\\tShape:', cl_y.shape)\n",
    "\n",
    "\n",
    "# Regression data\n",
    "r_X = np.array([[1, 2], [2, 4], [3, 6], [4, 8], [5, 10]])\n",
    "r_y = np.array([1, 2, 3, 4, 5])\n",
    "print('Regression input:\\n', r_X, '\\tShape:', r_X.shape)\n",
    "print('Regression labels:\\n', r_y, '\\tShape:', r_y.shape)\n",
    "\n",
    "\n",
    "# Use the following list to test your code for classification\n",
    "cl_X_test = np.array([[2.1], [5.2], [7.2]])\n",
    "\n",
    "r_X_test = np.array([[2.1, 5.1], [2.6, 6.2]])"
   ]
  },
  {
   "cell_type": "code",
   "execution_count": 27,
   "id": "f76d236e",
   "metadata": {},
   "outputs": [
    {
     "name": "stdout",
     "output_type": "stream",
     "text": [
      "[0, 2, 2]\n",
      "[0, 1, 2]\n",
      "[0 1 2]\n",
      "[0 1 2]\n"
     ]
    }
   ],
   "source": [
    "# classification (dont forget the weighting function)\n",
    "\n",
    "# Non-weighted\n",
    "knn_clf = KNN()\n",
    "knn_clf.fit(cl_X, cl_y)\n",
    "print(knn_clf.predict(cl_X_test))\n",
    "\n",
    "# Weighted\n",
    "knn_clf = KNN(weight='distance')\n",
    "knn_clf.fit(cl_X, cl_y)\n",
    "print(knn_clf.predict(cl_X_test))\n",
    "\n",
    "# sklearn comparison\n",
    "#Non-weighted\n",
    "knn_clf_sklearn = KNeighborsClassifier(n_neighbors=3)\n",
    "knn_clf_sklearn.fit(cl_X, cl_y)\n",
    "print(knn_clf_sklearn.predict(cl_X_test))\n",
    "\n",
    "#Weighted\n",
    "knn_clf_sklearn = KNeighborsClassifier(n_neighbors=3, weights='distance')\n",
    "knn_clf_sklearn.fit(cl_X, cl_y)\n",
    "print(knn_clf_sklearn.predict(cl_X_test))"
   ]
  },
  {
   "cell_type": "code",
   "execution_count": 28,
   "id": "1c588159",
   "metadata": {},
   "outputs": [
    {
     "name": "stdout",
     "output_type": "stream",
     "text": [
      "[1, 1]\n",
      "[1, 1]\n",
      "[2. 3.]\n",
      "[2.2414313 3.       ]\n"
     ]
    }
   ],
   "source": [
    "# regression (dont forget the weighting function)\n",
    "\n",
    "# Non-weighted\n",
    "knn_regressor = KNN()\n",
    "knn_regressor.fit(r_X, r_y)\n",
    "print(knn_clf.predict(r_X_test))\n",
    "\n",
    "# Weighted\n",
    "knn_regressor = KNN(weight='distance')\n",
    "knn_regressor.fit(r_X, r_y)\n",
    "print(knn_clf.predict(r_X_test))\n",
    "\n",
    "# sklearn comparison\n",
    "# Non-weighted\n",
    "knn_regressor_sklearn = KNeighborsRegressor(n_neighbors=3)\n",
    "knn_regressor_sklearn.fit(r_X, r_y)\n",
    "print(knn_regressor_sklearn.predict(r_X_test))\n",
    "\n",
    "# Weighted\n",
    "knn_regressor_sklearn = KNeighborsRegressor(n_neighbors=3, weights='distance')\n",
    "knn_regressor_sklearn.fit(r_X, r_y)\n",
    "print(knn_regressor_sklearn.predict(r_X_test))"
   ]
  }
 ],
 "metadata": {
  "kernelspec": {
   "display_name": "Python 3 (ipykernel)",
   "language": "python",
   "name": "python3"
  },
  "language_info": {
   "codemirror_mode": {
    "name": "ipython",
    "version": 3
   },
   "file_extension": ".py",
   "mimetype": "text/x-python",
   "name": "python",
   "nbconvert_exporter": "python",
   "pygments_lexer": "ipython3",
   "version": "3.11.7"
  }
 },
 "nbformat": 4,
 "nbformat_minor": 5
}
